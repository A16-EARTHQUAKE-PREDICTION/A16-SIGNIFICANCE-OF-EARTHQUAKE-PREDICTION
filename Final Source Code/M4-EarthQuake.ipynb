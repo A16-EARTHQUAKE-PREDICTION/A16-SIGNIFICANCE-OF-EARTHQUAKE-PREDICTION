{
 "cells": [
  {
   "cell_type": "markdown",
   "id": "8dad89cd",
   "metadata": {},
   "source": [
    "# Module - 4"
   ]
  },
  {
   "cell_type": "markdown",
   "id": "7f68df89",
   "metadata": {},
   "source": [
    "# Random Forest Algorithm"
   ]
  },
  {
   "cell_type": "code",
   "execution_count": 1,
   "id": "2c4bea15",
   "metadata": {},
   "outputs": [
    {
     "name": "stderr",
     "output_type": "stream",
     "text": [
      "Matplotlib is building the font cache; this may take a moment.\n"
     ]
    }
   ],
   "source": [
    "#import library packages\n",
    "import pandas as p\n",
    "import matplotlib.pyplot as plt\n",
    "import seaborn as s\n",
    "import numpy as n"
   ]
  },
  {
   "cell_type": "code",
   "execution_count": 2,
   "id": "5daf4e0f",
   "metadata": {},
   "outputs": [],
   "source": [
    "import warnings\n",
    "warnings.filterwarnings('ignore')"
   ]
  },
  {
   "cell_type": "code",
   "execution_count": 3,
   "id": "65c61144",
   "metadata": {},
   "outputs": [],
   "source": [
    "data=p.read_csv('demo1.csv')"
   ]
  },
  {
   "cell_type": "code",
   "execution_count": 4,
   "id": "be5d661c",
   "metadata": {},
   "outputs": [],
   "source": [
    "df = data.dropna()"
   ]
  },
  {
   "cell_type": "code",
   "execution_count": 5,
   "id": "7e4d98b6",
   "metadata": {},
   "outputs": [
    {
     "data": {
      "text/html": [
       "<div>\n",
       "<style scoped>\n",
       "    .dataframe tbody tr th:only-of-type {\n",
       "        vertical-align: middle;\n",
       "    }\n",
       "\n",
       "    .dataframe tbody tr th {\n",
       "        vertical-align: top;\n",
       "    }\n",
       "\n",
       "    .dataframe thead th {\n",
       "        text-align: right;\n",
       "    }\n",
       "</style>\n",
       "<table border=\"1\" class=\"dataframe\">\n",
       "  <thead>\n",
       "    <tr style=\"text-align: right;\">\n",
       "      <th></th>\n",
       "      <th>time</th>\n",
       "      <th>latitude</th>\n",
       "      <th>longitude</th>\n",
       "      <th>depth</th>\n",
       "      <th>mag</th>\n",
       "      <th>magType</th>\n",
       "      <th>nst</th>\n",
       "      <th>gap</th>\n",
       "      <th>dmin</th>\n",
       "      <th>rms</th>\n",
       "      <th>...</th>\n",
       "      <th>updated</th>\n",
       "      <th>place</th>\n",
       "      <th>type</th>\n",
       "      <th>horizontalError</th>\n",
       "      <th>depthError</th>\n",
       "      <th>magError</th>\n",
       "      <th>magNst</th>\n",
       "      <th>status</th>\n",
       "      <th>locationSource</th>\n",
       "      <th>magSource</th>\n",
       "    </tr>\n",
       "  </thead>\n",
       "  <tbody>\n",
       "    <tr>\n",
       "      <th>14385</th>\n",
       "      <td>2021-07-09T03:35:17.580Z</td>\n",
       "      <td>38.492000</td>\n",
       "      <td>-119.532833</td>\n",
       "      <td>3.01</td>\n",
       "      <td>2.91</td>\n",
       "      <td>md</td>\n",
       "      <td>17.0</td>\n",
       "      <td>84.0</td>\n",
       "      <td>0.07526</td>\n",
       "      <td>0.06</td>\n",
       "      <td>...</td>\n",
       "      <td>2021-07-15T21:30:10.871Z</td>\n",
       "      <td>31km ENE of Dardanelle, CA</td>\n",
       "      <td>earthquake</td>\n",
       "      <td>0.20</td>\n",
       "      <td>0.68</td>\n",
       "      <td>0.149</td>\n",
       "      <td>60.0</td>\n",
       "      <td>reviewed</td>\n",
       "      <td>nc</td>\n",
       "      <td>nc</td>\n",
       "    </tr>\n",
       "    <tr>\n",
       "      <th>14389</th>\n",
       "      <td>2021-07-09T03:30:32.250Z</td>\n",
       "      <td>33.693000</td>\n",
       "      <td>-116.788667</td>\n",
       "      <td>15.37</td>\n",
       "      <td>0.72</td>\n",
       "      <td>ml</td>\n",
       "      <td>37.0</td>\n",
       "      <td>61.0</td>\n",
       "      <td>0.06470</td>\n",
       "      <td>0.13</td>\n",
       "      <td>...</td>\n",
       "      <td>2021-07-09T14:27:23.887Z</td>\n",
       "      <td>8km SW of Idyllwild, CA</td>\n",
       "      <td>earthquake</td>\n",
       "      <td>0.19</td>\n",
       "      <td>0.31</td>\n",
       "      <td>0.141</td>\n",
       "      <td>12.0</td>\n",
       "      <td>reviewed</td>\n",
       "      <td>ci</td>\n",
       "      <td>ci</td>\n",
       "    </tr>\n",
       "    <tr>\n",
       "      <th>14390</th>\n",
       "      <td>2021-07-09T03:26:18.980Z</td>\n",
       "      <td>38.452167</td>\n",
       "      <td>-119.474000</td>\n",
       "      <td>4.91</td>\n",
       "      <td>2.54</td>\n",
       "      <td>md</td>\n",
       "      <td>8.0</td>\n",
       "      <td>91.0</td>\n",
       "      <td>0.05915</td>\n",
       "      <td>0.02</td>\n",
       "      <td>...</td>\n",
       "      <td>2021-07-12T23:12:11.046Z</td>\n",
       "      <td>30km NW of Bridgeport, CA</td>\n",
       "      <td>earthquake</td>\n",
       "      <td>0.85</td>\n",
       "      <td>1.63</td>\n",
       "      <td>0.239</td>\n",
       "      <td>44.0</td>\n",
       "      <td>reviewed</td>\n",
       "      <td>nc</td>\n",
       "      <td>nc</td>\n",
       "    </tr>\n",
       "    <tr>\n",
       "      <th>14396</th>\n",
       "      <td>2021-07-09T03:14:05.930Z</td>\n",
       "      <td>35.670167</td>\n",
       "      <td>-117.446667</td>\n",
       "      <td>9.67</td>\n",
       "      <td>0.87</td>\n",
       "      <td>ml</td>\n",
       "      <td>8.0</td>\n",
       "      <td>174.0</td>\n",
       "      <td>0.08444</td>\n",
       "      <td>0.15</td>\n",
       "      <td>...</td>\n",
       "      <td>2021-07-09T13:36:39.290Z</td>\n",
       "      <td>12km SSW of Searles Valley, CA</td>\n",
       "      <td>earthquake</td>\n",
       "      <td>0.74</td>\n",
       "      <td>1.12</td>\n",
       "      <td>0.157</td>\n",
       "      <td>6.0</td>\n",
       "      <td>reviewed</td>\n",
       "      <td>ci</td>\n",
       "      <td>ci</td>\n",
       "    </tr>\n",
       "    <tr>\n",
       "      <th>14397</th>\n",
       "      <td>2021-07-09T03:11:24.990Z</td>\n",
       "      <td>38.497667</td>\n",
       "      <td>-119.544667</td>\n",
       "      <td>1.85</td>\n",
       "      <td>2.25</td>\n",
       "      <td>md</td>\n",
       "      <td>10.0</td>\n",
       "      <td>89.0</td>\n",
       "      <td>0.08380</td>\n",
       "      <td>0.04</td>\n",
       "      <td>...</td>\n",
       "      <td>2021-07-15T20:59:14.003Z</td>\n",
       "      <td>30km NE of Dardanelle, CA</td>\n",
       "      <td>earthquake</td>\n",
       "      <td>0.30</td>\n",
       "      <td>1.26</td>\n",
       "      <td>0.074</td>\n",
       "      <td>11.0</td>\n",
       "      <td>reviewed</td>\n",
       "      <td>nc</td>\n",
       "      <td>nc</td>\n",
       "    </tr>\n",
       "    <tr>\n",
       "      <th>14398</th>\n",
       "      <td>2021-07-09T03:10:42.680Z</td>\n",
       "      <td>38.512833</td>\n",
       "      <td>-119.512000</td>\n",
       "      <td>4.72</td>\n",
       "      <td>2.55</td>\n",
       "      <td>md</td>\n",
       "      <td>13.0</td>\n",
       "      <td>104.0</td>\n",
       "      <td>0.05852</td>\n",
       "      <td>0.02</td>\n",
       "      <td>...</td>\n",
       "      <td>2021-07-12T23:06:13.015Z</td>\n",
       "      <td>32km SE of Markleeville, CA</td>\n",
       "      <td>earthquake</td>\n",
       "      <td>0.23</td>\n",
       "      <td>0.74</td>\n",
       "      <td>0.091</td>\n",
       "      <td>26.0</td>\n",
       "      <td>reviewed</td>\n",
       "      <td>nc</td>\n",
       "      <td>nc</td>\n",
       "    </tr>\n",
       "    <tr>\n",
       "      <th>14399</th>\n",
       "      <td>2021-07-09T03:09:38.810Z</td>\n",
       "      <td>38.511000</td>\n",
       "      <td>-119.538000</td>\n",
       "      <td>1.40</td>\n",
       "      <td>2.52</td>\n",
       "      <td>md</td>\n",
       "      <td>15.0</td>\n",
       "      <td>98.0</td>\n",
       "      <td>0.07858</td>\n",
       "      <td>0.05</td>\n",
       "      <td>...</td>\n",
       "      <td>2021-07-15T20:44:11.626Z</td>\n",
       "      <td>30km SE of Markleeville, CA</td>\n",
       "      <td>earthquake</td>\n",
       "      <td>0.26</td>\n",
       "      <td>1.06</td>\n",
       "      <td>0.194</td>\n",
       "      <td>27.0</td>\n",
       "      <td>reviewed</td>\n",
       "      <td>nc</td>\n",
       "      <td>nc</td>\n",
       "    </tr>\n",
       "    <tr>\n",
       "      <th>14402</th>\n",
       "      <td>2021-07-09T03:04:54.050Z</td>\n",
       "      <td>35.826000</td>\n",
       "      <td>-117.656000</td>\n",
       "      <td>9.66</td>\n",
       "      <td>0.33</td>\n",
       "      <td>ml</td>\n",
       "      <td>7.0</td>\n",
       "      <td>157.0</td>\n",
       "      <td>0.04863</td>\n",
       "      <td>0.07</td>\n",
       "      <td>...</td>\n",
       "      <td>2021-07-09T13:36:55.602Z</td>\n",
       "      <td>23km N of Ridgecrest, CA</td>\n",
       "      <td>earthquake</td>\n",
       "      <td>0.39</td>\n",
       "      <td>0.89</td>\n",
       "      <td>0.113</td>\n",
       "      <td>4.0</td>\n",
       "      <td>reviewed</td>\n",
       "      <td>ci</td>\n",
       "      <td>ci</td>\n",
       "    </tr>\n",
       "    <tr>\n",
       "      <th>14403</th>\n",
       "      <td>2021-07-09T03:03:16.780Z</td>\n",
       "      <td>38.474833</td>\n",
       "      <td>-119.530167</td>\n",
       "      <td>3.50</td>\n",
       "      <td>1.91</td>\n",
       "      <td>md</td>\n",
       "      <td>13.0</td>\n",
       "      <td>72.0</td>\n",
       "      <td>0.07794</td>\n",
       "      <td>0.12</td>\n",
       "      <td>...</td>\n",
       "      <td>2021-07-15T20:14:10.957Z</td>\n",
       "      <td>30km ENE of Dardanelle, CA</td>\n",
       "      <td>earthquake</td>\n",
       "      <td>0.26</td>\n",
       "      <td>1.01</td>\n",
       "      <td>0.217</td>\n",
       "      <td>12.0</td>\n",
       "      <td>reviewed</td>\n",
       "      <td>nc</td>\n",
       "      <td>nc</td>\n",
       "    </tr>\n",
       "    <tr>\n",
       "      <th>14405</th>\n",
       "      <td>2021-07-09T03:00:09.140Z</td>\n",
       "      <td>33.867500</td>\n",
       "      <td>-116.827667</td>\n",
       "      <td>13.10</td>\n",
       "      <td>0.89</td>\n",
       "      <td>ml</td>\n",
       "      <td>43.0</td>\n",
       "      <td>37.0</td>\n",
       "      <td>0.04219</td>\n",
       "      <td>0.13</td>\n",
       "      <td>...</td>\n",
       "      <td>2021-07-09T14:47:18.029Z</td>\n",
       "      <td>7km SW of Cabazon, CA</td>\n",
       "      <td>earthquake</td>\n",
       "      <td>0.16</td>\n",
       "      <td>0.40</td>\n",
       "      <td>0.177</td>\n",
       "      <td>24.0</td>\n",
       "      <td>reviewed</td>\n",
       "      <td>ci</td>\n",
       "      <td>ci</td>\n",
       "    </tr>\n",
       "  </tbody>\n",
       "</table>\n",
       "<p>10 rows × 22 columns</p>\n",
       "</div>"
      ],
      "text/plain": [
       "                           time   latitude   longitude  depth   mag magType  \\\n",
       "14385  2021-07-09T03:35:17.580Z  38.492000 -119.532833   3.01  2.91      md   \n",
       "14389  2021-07-09T03:30:32.250Z  33.693000 -116.788667  15.37  0.72      ml   \n",
       "14390  2021-07-09T03:26:18.980Z  38.452167 -119.474000   4.91  2.54      md   \n",
       "14396  2021-07-09T03:14:05.930Z  35.670167 -117.446667   9.67  0.87      ml   \n",
       "14397  2021-07-09T03:11:24.990Z  38.497667 -119.544667   1.85  2.25      md   \n",
       "14398  2021-07-09T03:10:42.680Z  38.512833 -119.512000   4.72  2.55      md   \n",
       "14399  2021-07-09T03:09:38.810Z  38.511000 -119.538000   1.40  2.52      md   \n",
       "14402  2021-07-09T03:04:54.050Z  35.826000 -117.656000   9.66  0.33      ml   \n",
       "14403  2021-07-09T03:03:16.780Z  38.474833 -119.530167   3.50  1.91      md   \n",
       "14405  2021-07-09T03:00:09.140Z  33.867500 -116.827667  13.10  0.89      ml   \n",
       "\n",
       "        nst    gap     dmin   rms  ...                   updated  \\\n",
       "14385  17.0   84.0  0.07526  0.06  ...  2021-07-15T21:30:10.871Z   \n",
       "14389  37.0   61.0  0.06470  0.13  ...  2021-07-09T14:27:23.887Z   \n",
       "14390   8.0   91.0  0.05915  0.02  ...  2021-07-12T23:12:11.046Z   \n",
       "14396   8.0  174.0  0.08444  0.15  ...  2021-07-09T13:36:39.290Z   \n",
       "14397  10.0   89.0  0.08380  0.04  ...  2021-07-15T20:59:14.003Z   \n",
       "14398  13.0  104.0  0.05852  0.02  ...  2021-07-12T23:06:13.015Z   \n",
       "14399  15.0   98.0  0.07858  0.05  ...  2021-07-15T20:44:11.626Z   \n",
       "14402   7.0  157.0  0.04863  0.07  ...  2021-07-09T13:36:55.602Z   \n",
       "14403  13.0   72.0  0.07794  0.12  ...  2021-07-15T20:14:10.957Z   \n",
       "14405  43.0   37.0  0.04219  0.13  ...  2021-07-09T14:47:18.029Z   \n",
       "\n",
       "                                place        type horizontalError depthError  \\\n",
       "14385      31km ENE of Dardanelle, CA  earthquake            0.20       0.68   \n",
       "14389         8km SW of Idyllwild, CA  earthquake            0.19       0.31   \n",
       "14390       30km NW of Bridgeport, CA  earthquake            0.85       1.63   \n",
       "14396  12km SSW of Searles Valley, CA  earthquake            0.74       1.12   \n",
       "14397       30km NE of Dardanelle, CA  earthquake            0.30       1.26   \n",
       "14398     32km SE of Markleeville, CA  earthquake            0.23       0.74   \n",
       "14399     30km SE of Markleeville, CA  earthquake            0.26       1.06   \n",
       "14402        23km N of Ridgecrest, CA  earthquake            0.39       0.89   \n",
       "14403      30km ENE of Dardanelle, CA  earthquake            0.26       1.01   \n",
       "14405           7km SW of Cabazon, CA  earthquake            0.16       0.40   \n",
       "\n",
       "       magError  magNst    status  locationSource magSource  \n",
       "14385     0.149    60.0  reviewed              nc        nc  \n",
       "14389     0.141    12.0  reviewed              ci        ci  \n",
       "14390     0.239    44.0  reviewed              nc        nc  \n",
       "14396     0.157     6.0  reviewed              ci        ci  \n",
       "14397     0.074    11.0  reviewed              nc        nc  \n",
       "14398     0.091    26.0  reviewed              nc        nc  \n",
       "14399     0.194    27.0  reviewed              nc        nc  \n",
       "14402     0.113     4.0  reviewed              ci        ci  \n",
       "14403     0.217    12.0  reviewed              nc        nc  \n",
       "14405     0.177    24.0  reviewed              ci        ci  \n",
       "\n",
       "[10 rows x 22 columns]"
      ]
     },
     "execution_count": 5,
     "metadata": {},
     "output_type": "execute_result"
    }
   ],
   "source": [
    "df.tail(10)"
   ]
  },
  {
   "cell_type": "code",
   "execution_count": 6,
   "id": "01ed592c",
   "metadata": {},
   "outputs": [],
   "source": [
    "del df['time']\n",
    "del df['updated']\n",
    "del df['place']\n",
    "del df['net']\n",
    "del df['magSource']\n",
    "del df['type']\n",
    "del df['id']"
   ]
  },
  {
   "cell_type": "code",
   "execution_count": 7,
   "id": "de475e14",
   "metadata": {},
   "outputs": [
    {
     "data": {
      "text/plain": [
       "array(['automatic', 'reviewed'], dtype=object)"
      ]
     },
     "execution_count": 7,
     "metadata": {},
     "output_type": "execute_result"
    }
   ],
   "source": [
    "df.status.unique()"
   ]
  },
  {
   "cell_type": "code",
   "execution_count": 8,
   "id": "5c25cabb",
   "metadata": {},
   "outputs": [],
   "source": [
    "from sklearn.preprocessing import LabelEncoder\n",
    "var_mod = ['magType','status', 'locationSource']\n",
    "le = LabelEncoder()\n",
    "for i in var_mod:\n",
    "    df[i] = le.fit_transform(df[i]).astype(int)"
   ]
  },
  {
   "cell_type": "code",
   "execution_count": 9,
   "id": "e56adfff",
   "metadata": {},
   "outputs": [
    {
     "data": {
      "text/plain": [
       "array([0, 1])"
      ]
     },
     "execution_count": 9,
     "metadata": {},
     "output_type": "execute_result"
    }
   ],
   "source": [
    "df.status.unique()"
   ]
  },
  {
   "cell_type": "code",
   "execution_count": 10,
   "id": "5fe17095",
   "metadata": {},
   "outputs": [],
   "source": [
    "#preprocessing, split test and dataset, split response variable\n",
    "X = df.drop(labels='status', axis=1)\n",
    "#Response variable\n",
    "y = df.loc[:,'status']    "
   ]
  },
  {
   "cell_type": "code",
   "execution_count": 11,
   "id": "82f48c3f",
   "metadata": {},
   "outputs": [
    {
     "name": "stdout",
     "output_type": "stream",
     "text": [
      "Number of training dataset:  5619\n",
      "Number of test dataset:  1405\n",
      "Total number of dataset:  7024\n"
     ]
    }
   ],
   "source": [
    "'''We'll use a test size of 20%. We also stratify the split on the response variable,\n",
    "which is very important to do because there are so few fraudulent transactions'''\n",
    "\n",
    "from sklearn.model_selection import train_test_split\n",
    "X_train, X_test, y_train, y_test = train_test_split(X, y, test_size=0.20, random_state=1, stratify=y)\n",
    "print(\"Number of training dataset: \", len(X_train))\n",
    "print(\"Number of test dataset: \", len(X_test))\n",
    "print(\"Total number of dataset: \", len(X_train)+len(X_test))\n"
   ]
  },
  {
   "cell_type": "code",
   "execution_count": 12,
   "id": "26586ca2",
   "metadata": {},
   "outputs": [],
   "source": [
    "#According to the cross-validated MCC scores, the random forest is the best-performing model, so now let's evaluate its performance on the test set.\n",
    "from sklearn.metrics import confusion_matrix, classification_report, matthews_corrcoef, cohen_kappa_score, accuracy_score, average_precision_score, roc_auc_score"
   ]
  },
  {
   "cell_type": "code",
   "execution_count": 13,
   "id": "abb1261e",
   "metadata": {},
   "outputs": [
    {
     "name": "stdout",
     "output_type": "stream",
     "text": [
      "The history saving thread hit an unexpected error (OperationalError('database is locked')).History will not be written to the database.\n",
      "\n",
      "Classification report of Random Forest Results:\n",
      "\n",
      "              precision    recall  f1-score   support\n",
      "\n",
      "           0       0.99      0.78      0.88       130\n",
      "           1       0.98      1.00      0.99      1275\n",
      "\n",
      "    accuracy                           0.98      1405\n",
      "   macro avg       0.98      0.89      0.93      1405\n",
      "weighted avg       0.98      0.98      0.98      1405\n",
      "\n",
      "\n",
      "Confusion Matrix result of Random Forest Classifier is:\n",
      " [[ 102   28]\n",
      " [   1 1274]]\n",
      "\n",
      "Sensitivity :  0.7846153846153846\n",
      "\n",
      "Specificity :  0.9992156862745099\n",
      "\n",
      "Cross validation test results of accuracy:\n",
      "[0.93523132 0.94519573 0.9886121  0.97366548 0.97079772]\n",
      "\n",
      "Accuracy result of Random Forest Classifier is: 96.27004694264481\n"
     ]
    }
   ],
   "source": [
    "from sklearn.metrics import accuracy_score, confusion_matrix\n",
    "from sklearn.ensemble import RandomForestClassifier\n",
    "from sklearn.model_selection import cross_val_score\n",
    "\n",
    "rfc= RandomForestClassifier()\n",
    "\n",
    "rfc.fit(X_train,y_train)\n",
    "\n",
    "predictRF = rfc.predict(X_test)\n",
    "\n",
    "print(\"\")\n",
    "print('Classification report of Random Forest Results:')\n",
    "print(\"\")\n",
    "print(classification_report(y_test,predictRF))\n",
    "\n",
    "print(\"\")\n",
    "cm1=confusion_matrix(y_test,predictRF)\n",
    "print('Confusion Matrix result of Random Forest Classifier is:\\n',cm1)\n",
    "print(\"\")\n",
    "sensitivity1 = cm1[0,0]/(cm1[0,0]+cm1[0,1])\n",
    "print('Sensitivity : ', sensitivity1 )\n",
    "print(\"\")\n",
    "specificity1 = cm1[1,1]/(cm1[1,0]+cm1[1,1])\n",
    "print('Specificity : ', specificity1)\n",
    "print(\"\")\n",
    "\n",
    "accuracy = cross_val_score(rfc, X, y, scoring='accuracy')\n",
    "print('Cross validation test results of accuracy:')\n",
    "print(accuracy)\n",
    "#get the mean of each fold \n",
    "print(\"\")\n",
    "print(\"Accuracy result of Random Forest Classifier is:\",accuracy.mean() * 100)\n",
    "RF=accuracy.mean() * 100"
   ]
  },
  {
   "cell_type": "code",
   "execution_count": 14,
   "id": "c5bdb29b",
   "metadata": {},
   "outputs": [],
   "source": [
    "def graph():\n",
    "    import matplotlib.pyplot as plt\n",
    "    data=[RF]\n",
    "    alg=\"Random Forest Classifier\"\n",
    "    plt.figure(figsize=(5,5))\n",
    "    b=plt.bar(alg,data,color=(\"m\"))\n",
    "    plt.title(\"Accuracy comparison of Earth Quake\",fontsize=15)\n",
    "    plt.legend(b,data,fontsize=9)"
   ]
  },
  {
   "cell_type": "code",
   "execution_count": 15,
   "id": "5651b5a9",
   "metadata": {},
   "outputs": [
    {
     "data": {
      "image/png": "[encoded data removed]",
      "text/plain": [
       "<Figure size 360x360 with 1 Axes>"
      ]
     },
     "metadata": {
      "needs_background": "light"
     },
     "output_type": "display_data"
    }
   ],
   "source": [
    "graph()"
   ]
  },
  {
   "cell_type": "code",
   "execution_count": 16,
   "id": "dff73ca3",
   "metadata": {},
   "outputs": [
    {
     "name": "stdout",
     "output_type": "stream",
     "text": [
      "True Positive : 102\n",
      "True Negative : 28\n",
      "False Positive : 1\n",
      "False Negative : 1274\n",
      "\n",
      "True Positive Rate : 0.07412790697674419\n",
      "True Negative Rate : 0.9655172413793104\n",
      "False Positive Rate : 0.034482758620689655\n",
      "False Negative Rate : 0.9258720930232558\n",
      "\n",
      "Positive Predictive Value : 0.9902912621359223\n",
      "Negative predictive value : 0.021505376344086023\n"
     ]
    }
   ],
   "source": [
    "TP = cm1[0][0]\n",
    "FP = cm1[1][0]\n",
    "FN = cm1[1][1]\n",
    "TN = cm1[0][1]\n",
    "print(\"True Positive :\",TP)\n",
    "print(\"True Negative :\",TN)\n",
    "print(\"False Positive :\",FP)\n",
    "print(\"False Negative :\",FN)\n",
    "print(\"\")\n",
    "TPR = TP/(TP+FN)\n",
    "TNR = TN/(TN+FP)\n",
    "FPR = FP/(FP+TN)\n",
    "FNR = FN/(TP+FN)\n",
    "print(\"True Positive Rate :\",TPR)\n",
    "print(\"True Negative Rate :\",TNR)\n",
    "print(\"False Positive Rate :\",FPR)\n",
    "print(\"False Negative Rate :\",FNR)\n",
    "print(\"\")\n",
    "PPV = TP/(TP+FP)\n",
    "NPV = TN/(TN+FN)\n",
    "print(\"Positive Predictive Value :\",PPV)\n",
    "print(\"Negative predictive value :\",NPV)"
   ]
  },
  {
   "cell_type": "code",
   "execution_count": 17,
   "id": "065de0c2",
   "metadata": {
    "scrolled": true
   },
   "outputs": [
    {
     "name": "stdout",
     "output_type": "stream",
     "text": [
      "Confusion matrix-RandomForestClassifier:\n",
      "[[ 102   28]\n",
      " [   1 1274]]\n"
     ]
    },
    {
     "data": {
      "image/png": "[encoded data removed]",
      "text/plain": [
       "<Figure size 432x288 with 2 Axes>"
      ]
     },
     "metadata": {
      "needs_background": "light"
     },
     "output_type": "display_data"
    }
   ],
   "source": [
    "def plot_confusion_matrix(cm1, title='Confusion matrix-RandomForestClassifier', cmap=plt.cm.Blues):\n",
    "    target_names=['Predict','Actual']\n",
    "    plt.imshow(cm1, interpolation='nearest', cmap=cmap)\n",
    "    plt.title(title)\n",
    "    plt.colorbar()\n",
    "    tick_marks = n.arange(len(target_names))\n",
    "    plt.xticks(tick_marks, target_names, rotation=45)\n",
    "    plt.yticks(tick_marks, target_names)\n",
    "    plt.tight_layout()\n",
    "    plt.ylabel('True label')\n",
    "    plt.xlabel('Predicted label')\n",
    "\n",
    "cm1=confusion_matrix(y_test, predictRF)\n",
    "print('Confusion matrix-RandomForestClassifier:')\n",
    "print(cm1)\n",
    "plot_confusion_matrix(cm1)"
   ]
  },
  {
   "cell_type": "code",
   "execution_count": null,
   "id": "f4c2a55f",
   "metadata": {},
   "outputs": [],
   "source": []
  },
  {
   "cell_type": "code",
   "execution_count": null,
   "id": "64fc35e9",
   "metadata": {},
   "outputs": [],
   "source": []
  },
  {
   "cell_type": "code",
   "execution_count": null,
   "id": "dd041f9d",
   "metadata": {},
   "outputs": [],
   "source": []
  },
  {
   "cell_type": "code",
   "execution_count": null,
   "id": "4f303430",
   "metadata": {},
   "outputs": [],
   "source": []
  },
  {
   "cell_type": "markdown",
   "id": "f07e25c2",
   "metadata": {},
   "source": [
    "# Creating pkl File"
   ]
  },
  {
   "cell_type": "code",
   "execution_count": 18,
   "id": "42f0e746",
   "metadata": {},
   "outputs": [
    {
     "data": {
      "text/plain": [
       "['rf.pkl']"
      ]
     },
     "execution_count": 18,
     "metadata": {},
     "output_type": "execute_result"
    }
   ],
   "source": [
    "import joblib\n",
    "joblib.dump(rfc,\"rf.pkl\")"
   ]
  },
  {
   "cell_type": "code",
   "execution_count": null,
   "id": "76120001",
   "metadata": {},
   "outputs": [],
   "source": []
  },
  {
   "cell_type": "code",
   "execution_count": null,
   "id": "9e1bb818",
   "metadata": {},
   "outputs": [],
   "source": []
  }
 ],
 "metadata": {
  "kernelspec": {
   "display_name": "Python 3 (ipykernel)",
   "language": "python",
   "name": "python3"
  },
  "language_info": {
   "codemirror_mode": {
    "name": "ipython",
    "version": 3
   },
   "file_extension": ".py",
   "mimetype": "text/x-python",
   "name": "python",
   "nbconvert_exporter": "python",
   "pygments_lexer": "ipython3",
   "version": "3.9.12"
  }
 },
 "nbformat": 4,
 "nbformat_minor": 5
}
