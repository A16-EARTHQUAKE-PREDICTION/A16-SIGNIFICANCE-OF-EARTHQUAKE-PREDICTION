{
 "cells": [
  {
   "cell_type": "markdown",
   "id": "ea4b4180",
   "metadata": {},
   "source": [
    "# Module - 3 "
   ]
  },
  {
   "cell_type": "markdown",
   "id": "575edbde",
   "metadata": {},
   "source": [
    "# Logistic Regression"
   ]
  },
  {
   "cell_type": "code",
   "execution_count": 1,
   "id": "21c70c00",
   "metadata": {},
   "outputs": [],
   "source": [
    "#import library packages\n",
    "import pandas as p\n",
    "import matplotlib.pyplot as plt\n",
    "import seaborn as s\n",
    "import numpy as n"
   ]
  },
  {
   "cell_type": "code",
   "execution_count": 2,
   "id": "9c921728",
   "metadata": {},
   "outputs": [],
   "source": [
    "import warnings\n",
    "warnings.filterwarnings('ignore')"
   ]
  },
  {
   "cell_type": "code",
   "execution_count": 3,
   "id": "496dc9ac",
   "metadata": {},
   "outputs": [],
   "source": [
    "data=p.read_csv('demo1.csv')"
   ]
  },
  {
   "cell_type": "code",
   "execution_count": 4,
   "id": "1e073698",
   "metadata": {},
   "outputs": [],
   "source": [
    "df = data.dropna()"
   ]
  },
  {
   "cell_type": "code",
   "execution_count": 5,
   "id": "7bc70e98",
   "metadata": {},
   "outputs": [
    {
     "data": {
      "text/html": [
       "<div>\n",
       "<style scoped>\n",
       "    .dataframe tbody tr th:only-of-type {\n",
       "        vertical-align: middle;\n",
       "    }\n",
       "\n",
       "    .dataframe tbody tr th {\n",
       "        vertical-align: top;\n",
       "    }\n",
       "\n",
       "    .dataframe thead th {\n",
       "        text-align: right;\n",
       "    }\n",
       "</style>\n",
       "<table border=\"1\" class=\"dataframe\">\n",
       "  <thead>\n",
       "    <tr style=\"text-align: right;\">\n",
       "      <th></th>\n",
       "      <th>time</th>\n",
       "      <th>latitude</th>\n",
       "      <th>longitude</th>\n",
       "      <th>depth</th>\n",
       "      <th>mag</th>\n",
       "      <th>magType</th>\n",
       "      <th>nst</th>\n",
       "      <th>gap</th>\n",
       "      <th>dmin</th>\n",
       "      <th>rms</th>\n",
       "      <th>...</th>\n",
       "      <th>updated</th>\n",
       "      <th>place</th>\n",
       "      <th>type</th>\n",
       "      <th>horizontalError</th>\n",
       "      <th>depthError</th>\n",
       "      <th>magError</th>\n",
       "      <th>magNst</th>\n",
       "      <th>status</th>\n",
       "      <th>locationSource</th>\n",
       "      <th>magSource</th>\n",
       "    </tr>\n",
       "  </thead>\n",
       "  <tbody>\n",
       "    <tr>\n",
       "      <th>2</th>\n",
       "      <td>2021-08-08T02:41:28.900Z</td>\n",
       "      <td>35.943667</td>\n",
       "      <td>-117.728167</td>\n",
       "      <td>0.42</td>\n",
       "      <td>0.56</td>\n",
       "      <td>ml</td>\n",
       "      <td>10.0</td>\n",
       "      <td>106.0</td>\n",
       "      <td>0.063260</td>\n",
       "      <td>0.16</td>\n",
       "      <td>...</td>\n",
       "      <td>2021-08-08T02:44:57.423Z</td>\n",
       "      <td>16km E of Little Lake, CA</td>\n",
       "      <td>earthquake</td>\n",
       "      <td>0.35</td>\n",
       "      <td>1.41</td>\n",
       "      <td>0.122</td>\n",
       "      <td>4.0</td>\n",
       "      <td>automatic</td>\n",
       "      <td>ci</td>\n",
       "      <td>ci</td>\n",
       "    </tr>\n",
       "    <tr>\n",
       "      <th>5</th>\n",
       "      <td>2021-08-08T02:13:55.060Z</td>\n",
       "      <td>35.776833</td>\n",
       "      <td>-117.586667</td>\n",
       "      <td>7.88</td>\n",
       "      <td>1.04</td>\n",
       "      <td>ml</td>\n",
       "      <td>17.0</td>\n",
       "      <td>129.0</td>\n",
       "      <td>0.039810</td>\n",
       "      <td>0.17</td>\n",
       "      <td>...</td>\n",
       "      <td>2021-08-08T02:17:31.376Z</td>\n",
       "      <td>16km W of Searles Valley, CA</td>\n",
       "      <td>earthquake</td>\n",
       "      <td>0.38</td>\n",
       "      <td>0.77</td>\n",
       "      <td>0.156</td>\n",
       "      <td>12.0</td>\n",
       "      <td>automatic</td>\n",
       "      <td>ci</td>\n",
       "      <td>ci</td>\n",
       "    </tr>\n",
       "    <tr>\n",
       "      <th>7</th>\n",
       "      <td>2021-08-08T01:57:36.060Z</td>\n",
       "      <td>33.680500</td>\n",
       "      <td>-116.730500</td>\n",
       "      <td>14.30</td>\n",
       "      <td>0.80</td>\n",
       "      <td>ml</td>\n",
       "      <td>32.0</td>\n",
       "      <td>50.0</td>\n",
       "      <td>0.033480</td>\n",
       "      <td>0.15</td>\n",
       "      <td>...</td>\n",
       "      <td>2021-08-08T02:01:09.832Z</td>\n",
       "      <td>7km S of Idyllwild, CA</td>\n",
       "      <td>earthquake</td>\n",
       "      <td>0.28</td>\n",
       "      <td>0.39</td>\n",
       "      <td>0.117</td>\n",
       "      <td>20.0</td>\n",
       "      <td>automatic</td>\n",
       "      <td>ci</td>\n",
       "      <td>ci</td>\n",
       "    </tr>\n",
       "    <tr>\n",
       "      <th>10</th>\n",
       "      <td>2021-08-08T01:49:10.870Z</td>\n",
       "      <td>33.154000</td>\n",
       "      <td>-116.389167</td>\n",
       "      <td>-0.17</td>\n",
       "      <td>0.60</td>\n",
       "      <td>ml</td>\n",
       "      <td>14.0</td>\n",
       "      <td>189.0</td>\n",
       "      <td>0.384600</td>\n",
       "      <td>0.26</td>\n",
       "      <td>...</td>\n",
       "      <td>2021-08-08T01:52:50.681Z</td>\n",
       "      <td>11km S of Borrego Springs, CA</td>\n",
       "      <td>earthquake</td>\n",
       "      <td>1.84</td>\n",
       "      <td>31.61</td>\n",
       "      <td>0.205</td>\n",
       "      <td>3.0</td>\n",
       "      <td>automatic</td>\n",
       "      <td>ci</td>\n",
       "      <td>ci</td>\n",
       "    </tr>\n",
       "    <tr>\n",
       "      <th>12</th>\n",
       "      <td>2021-08-08T01:34:18.050Z</td>\n",
       "      <td>38.764332</td>\n",
       "      <td>-122.710671</td>\n",
       "      <td>1.56</td>\n",
       "      <td>0.86</td>\n",
       "      <td>md</td>\n",
       "      <td>10.0</td>\n",
       "      <td>116.0</td>\n",
       "      <td>0.009697</td>\n",
       "      <td>0.04</td>\n",
       "      <td>...</td>\n",
       "      <td>2021-08-08T01:35:55.520Z</td>\n",
       "      <td>2km SW of Anderson Springs, CA</td>\n",
       "      <td>earthquake</td>\n",
       "      <td>0.44</td>\n",
       "      <td>0.30</td>\n",
       "      <td>0.160</td>\n",
       "      <td>4.0</td>\n",
       "      <td>automatic</td>\n",
       "      <td>nc</td>\n",
       "      <td>nc</td>\n",
       "    </tr>\n",
       "  </tbody>\n",
       "</table>\n",
       "<p>5 rows × 22 columns</p>\n",
       "</div>"
      ],
      "text/plain": [
       "                        time   latitude   longitude  depth   mag magType  \\\n",
       "2   2021-08-08T02:41:28.900Z  35.943667 -117.728167   0.42  0.56      ml   \n",
       "5   2021-08-08T02:13:55.060Z  35.776833 -117.586667   7.88  1.04      ml   \n",
       "7   2021-08-08T01:57:36.060Z  33.680500 -116.730500  14.30  0.80      ml   \n",
       "10  2021-08-08T01:49:10.870Z  33.154000 -116.389167  -0.17  0.60      ml   \n",
       "12  2021-08-08T01:34:18.050Z  38.764332 -122.710671   1.56  0.86      md   \n",
       "\n",
       "     nst    gap      dmin   rms  ...                   updated  \\\n",
       "2   10.0  106.0  0.063260  0.16  ...  2021-08-08T02:44:57.423Z   \n",
       "5   17.0  129.0  0.039810  0.17  ...  2021-08-08T02:17:31.376Z   \n",
       "7   32.0   50.0  0.033480  0.15  ...  2021-08-08T02:01:09.832Z   \n",
       "10  14.0  189.0  0.384600  0.26  ...  2021-08-08T01:52:50.681Z   \n",
       "12  10.0  116.0  0.009697  0.04  ...  2021-08-08T01:35:55.520Z   \n",
       "\n",
       "                             place        type horizontalError depthError  \\\n",
       "2        16km E of Little Lake, CA  earthquake            0.35       1.41   \n",
       "5     16km W of Searles Valley, CA  earthquake            0.38       0.77   \n",
       "7           7km S of Idyllwild, CA  earthquake            0.28       0.39   \n",
       "10   11km S of Borrego Springs, CA  earthquake            1.84      31.61   \n",
       "12  2km SW of Anderson Springs, CA  earthquake            0.44       0.30   \n",
       "\n",
       "    magError  magNst     status  locationSource magSource  \n",
       "2      0.122     4.0  automatic              ci        ci  \n",
       "5      0.156    12.0  automatic              ci        ci  \n",
       "7      0.117    20.0  automatic              ci        ci  \n",
       "10     0.205     3.0  automatic              ci        ci  \n",
       "12     0.160     4.0  automatic              nc        nc  \n",
       "\n",
       "[5 rows x 22 columns]"
      ]
     },
     "execution_count": 5,
     "metadata": {},
     "output_type": "execute_result"
    }
   ],
   "source": [
    "df.head()"
   ]
  },
  {
   "cell_type": "code",
   "execution_count": 6,
   "id": "58e4fa71",
   "metadata": {},
   "outputs": [],
   "source": [
    "del df['time']\n",
    "del df['updated']\n",
    "del df['place']\n",
    "del df['net']\n",
    "del df['magSource']\n",
    "del df['type']\n",
    "del df['id']"
   ]
  },
  {
   "cell_type": "code",
   "execution_count": 7,
   "id": "82335851",
   "metadata": {},
   "outputs": [
    {
     "data": {
      "text/plain": [
       "Index(['latitude', 'longitude', 'depth', 'mag', 'magType', 'nst', 'gap',\n",
       "       'dmin', 'rms', 'horizontalError', 'depthError', 'magError', 'magNst',\n",
       "       'status', 'locationSource'],\n",
       "      dtype='object')"
      ]
     },
     "execution_count": 7,
     "metadata": {},
     "output_type": "execute_result"
    }
   ],
   "source": [
    "df.columns"
   ]
  },
  {
   "cell_type": "code",
   "execution_count": 8,
   "id": "29015e3e",
   "metadata": {},
   "outputs": [],
   "source": [
    "from sklearn.preprocessing import LabelEncoder\n",
    "var_mod = ['magType','status', 'locationSource']\n",
    "le = LabelEncoder()\n",
    "for i in var_mod:\n",
    "    df[i] = le.fit_transform(df[i]).astype(str)"
   ]
  },
  {
   "cell_type": "code",
   "execution_count": 9,
   "id": "b91440c6",
   "metadata": {},
   "outputs": [],
   "source": [
    "#preprocessing, split test and dataset, split response variable\n",
    "X = df.drop(labels='status', axis=1)\n",
    "#Response variable\n",
    "y = df.loc[:,'status']  "
   ]
  },
  {
   "cell_type": "code",
   "execution_count": 10,
   "id": "02e9197f",
   "metadata": {},
   "outputs": [
    {
     "name": "stdout",
     "output_type": "stream",
     "text": [
      "Number of training dataset:  5619\n",
      "Number of test dataset:  1405\n",
      "Total number of dataset:  7024\n"
     ]
    }
   ],
   "source": [
    "'''We'll use a test size of 20%. We also stratify the split on the response variable,\n",
    "which is very important to do because there are so few fraudulent transactions'''\n",
    "\n",
    "from sklearn.model_selection import train_test_split\n",
    "X_train, X_test, y_train, y_test = train_test_split(X, y, test_size=0.20, random_state=1, stratify=y)\n",
    "print(\"Number of training dataset: \", len(X_train))\n",
    "print(\"Number of test dataset: \", len(X_test))\n",
    "print(\"Total number of dataset: \", len(X_train)+len(X_test))\n"
   ]
  },
  {
   "cell_type": "code",
   "execution_count": 11,
   "id": "0e7e48b7",
   "metadata": {},
   "outputs": [],
   "source": [
    "#According to the cross-validated MCC scores, the random forest is the best-performing model, so now let's evaluate its performance on the test set.\n",
    "from sklearn.metrics import confusion_matrix, classification_report, matthews_corrcoef, cohen_kappa_score, accuracy_score, average_precision_score, roc_auc_score"
   ]
  },
  {
   "cell_type": "code",
   "execution_count": 12,
   "id": "25b47e8c",
   "metadata": {},
   "outputs": [
    {
     "name": "stdout",
     "output_type": "stream",
     "text": [
      "\n",
      "Classification report of Logistic Regression Results:\n",
      "\n",
      "              precision    recall  f1-score   support\n",
      "\n",
      "           0       0.84      0.58      0.69       130\n",
      "           1       0.96      0.99      0.97      1275\n",
      "\n",
      "    accuracy                           0.95      1405\n",
      "   macro avg       0.90      0.79      0.83      1405\n",
      "weighted avg       0.95      0.95      0.95      1405\n",
      "\n",
      "\n",
      "Confusion Matrix result of Logistic Regression is:\n",
      " [[  76   54]\n",
      " [  15 1260]]\n",
      "\n",
      "Sensitivity :  0.5846153846153846\n",
      "\n",
      "Specificity :  0.9882352941176471\n",
      "\n",
      "Cross validation test results of accuracy:\n",
      "[0.93807829 0.94021352 0.96370107 0.94946619 0.92378917]\n",
      "\n",
      "Accuracy result of Logistic Regression is: 94.30496497044541\n"
     ]
    }
   ],
   "source": [
    "from sklearn.metrics import accuracy_score, confusion_matrix\n",
    "from sklearn.linear_model import LogisticRegression\n",
    "from sklearn.model_selection import cross_val_score\n",
    "\n",
    "logR= LogisticRegression()\n",
    "\n",
    "logR.fit(X_train,y_train)\n",
    "\n",
    "predictLR = logR.predict(X_test)\n",
    "\n",
    "print(\"\")\n",
    "print('Classification report of Logistic Regression Results:')\n",
    "print(\"\")\n",
    "print(classification_report(y_test,predictLR))\n",
    "\n",
    "print(\"\")\n",
    "cm1=confusion_matrix(y_test,predictLR)\n",
    "print('Confusion Matrix result of Logistic Regression is:\\n',cm1)\n",
    "print(\"\")\n",
    "sensitivity1 = cm1[0,0]/(cm1[0,0]+cm1[0,1])\n",
    "print('Sensitivity : ', sensitivity1 )\n",
    "print(\"\")\n",
    "specificity1 = cm1[1,1]/(cm1[1,0]+cm1[1,1])\n",
    "print('Specificity : ', specificity1)\n",
    "print(\"\")\n",
    "\n",
    "accuracy = cross_val_score(logR, X, y, scoring='accuracy')\n",
    "print('Cross validation test results of accuracy:')\n",
    "print(accuracy)\n",
    "#get the mean of each fold \n",
    "print(\"\")\n",
    "print(\"Accuracy result of Logistic Regression is:\",accuracy.mean() * 100)\n",
    "LR=accuracy.mean() * 100"
   ]
  },
  {
   "cell_type": "code",
   "execution_count": 13,
   "id": "ba84281e",
   "metadata": {},
   "outputs": [],
   "source": [
    "def graph():\n",
    "    import matplotlib.pyplot as plt\n",
    "    data=[LR]\n",
    "    alg=\"Logistic Regression\"\n",
    "    plt.figure(figsize=(5,5))\n",
    "    b=plt.bar(alg,data,color=(\"b\"))\n",
    "    plt.title(\"Accuracy comparison of Earth Quake\",fontsize=15)\n",
    "    plt.legend(b,data,fontsize=9)"
   ]
  },
  {
   "cell_type": "code",
   "execution_count": 14,
   "id": "0e34f99b",
   "metadata": {},
   "outputs": [
    {
     "data": {
      "image/png": "[encoded data removed]",
      "text/plain": [
       "<Figure size 360x360 with 1 Axes>"
      ]
     },
     "metadata": {
      "needs_background": "light"
     },
     "output_type": "display_data"
    }
   ],
   "source": [
    "graph()"
   ]
  },
  {
   "cell_type": "code",
   "execution_count": 15,
   "id": "0b0071dd",
   "metadata": {},
   "outputs": [
    {
     "name": "stdout",
     "output_type": "stream",
     "text": [
      "True Positive : 76\n",
      "True Negative : 54\n",
      "False Positive : 15\n",
      "False Negative : 1260\n",
      "\n",
      "True Positive Rate : 0.05688622754491018\n",
      "True Negative Rate : 0.782608695652174\n",
      "False Positive Rate : 0.21739130434782608\n",
      "False Negative Rate : 0.9431137724550899\n",
      "\n",
      "Positive Predictive Value : 0.8351648351648352\n",
      "Negative predictive value : 0.0410958904109589\n"
     ]
    }
   ],
   "source": [
    "TP = cm1[0][0]\n",
    "FP = cm1[1][0]\n",
    "FN = cm1[1][1]\n",
    "TN = cm1[0][1]\n",
    "print(\"True Positive :\",TP)\n",
    "print(\"True Negative :\",TN)\n",
    "print(\"False Positive :\",FP)\n",
    "print(\"False Negative :\",FN)\n",
    "print(\"\")\n",
    "TPR = TP/(TP+FN)\n",
    "TNR = TN/(TN+FP)\n",
    "FPR = FP/(FP+TN)\n",
    "FNR = FN/(TP+FN)\n",
    "print(\"True Positive Rate :\",TPR)\n",
    "print(\"True Negative Rate :\",TNR)\n",
    "print(\"False Positive Rate :\",FPR)\n",
    "print(\"False Negative Rate :\",FNR)\n",
    "print(\"\")\n",
    "PPV = TP/(TP+FP)\n",
    "NPV = TN/(TN+FN)\n",
    "print(\"Positive Predictive Value :\",PPV)\n",
    "print(\"Negative predictive value :\",NPV)"
   ]
  },
  {
   "cell_type": "code",
   "execution_count": 16,
   "id": "5e83253b",
   "metadata": {},
   "outputs": [
    {
     "name": "stdout",
     "output_type": "stream",
     "text": [
      "Confusion matrix-Logistic_Regression:\n",
      "[[  76   54]\n",
      " [  15 1260]]\n"
     ]
    },
    {
     "data": {
      "image/png": "[encoded data removed]",
      "text/plain": [
       "<Figure size 432x288 with 2 Axes>"
      ]
     },
     "metadata": {
      "needs_background": "light"
     },
     "output_type": "display_data"
    }
   ],
   "source": [
    "def plot_confusion_matrix(cm1, title='Confusion matrix-Logistic_Regression', cmap=plt.cm.Blues):\n",
    "    target_names=['Predict','Actual']\n",
    "    plt.imshow(cm1, interpolation='nearest', cmap=cmap)\n",
    "    plt.title(title)\n",
    "    plt.colorbar()\n",
    "    tick_marks = n.arange(len(target_names))\n",
    "    plt.xticks(tick_marks, target_names, rotation=45)\n",
    "    plt.yticks(tick_marks, target_names)\n",
    "    plt.tight_layout()\n",
    "    plt.ylabel('True label')\n",
    "    plt.xlabel('Predicted label')\n",
    "\n",
    "cm1=confusion_matrix(y_test, predictLR)\n",
    "print('Confusion matrix-Logistic_Regression:')\n",
    "print(cm1)\n",
    "plot_confusion_matrix(cm1)"
   ]
  },
  {
   "cell_type": "code",
   "execution_count": null,
   "id": "06f10419",
   "metadata": {},
   "outputs": [],
   "source": []
  },
  {
   "cell_type": "code",
   "execution_count": null,
   "id": "c1be4f54",
   "metadata": {},
   "outputs": [],
   "source": []
  }
 ],
 "metadata": {
  "kernelspec": {
   "display_name": "Python 3 (ipykernel)",
   "language": "python",
   "name": "python3"
  },
  "language_info": {
   "codemirror_mode": {
    "name": "ipython",
    "version": 3
   },
   "file_extension": ".py",
   "mimetype": "text/x-python",
   "name": "python",
   "nbconvert_exporter": "python",
   "pygments_lexer": "ipython3",
   "version": "3.9.12"
  }
 },
 "nbformat": 4,
 "nbformat_minor": 5
}
